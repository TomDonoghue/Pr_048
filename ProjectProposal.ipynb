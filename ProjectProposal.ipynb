{
 "cells": [
  {
   "cell_type": "markdown",
   "metadata": {},
   "source": [
    "# COGS 108 - Assignment 4: Project Proposal"
   ]
  },
  {
   "cell_type": "markdown",
   "metadata": {},
   "source": [
    "## Important\n",
    "\n",
    "- Make sure all group member (3-5 people) are listed in the group members section.\n",
    "- ONE, and only one, member of your group should upload this notebook to TritonED. \n",
    "- Each member of the group will receive the same grade on this assignment. \n",
    "- Keep the file name the same: submit the file 'A4_ProjectProposal.ipynb'"
   ]
  },
  {
   "cell_type": "markdown",
   "metadata": {},
   "source": [
    "## Overview"
   ]
  },
  {
   "cell_type": "markdown",
   "metadata": {},
   "source": [
    "Read the project description, and detailed instructions for this assignment, in the 'A4_ProjectOutlineAndProposal' pdf."
   ]
  },
  {
   "cell_type": "markdown",
   "metadata": {},
   "source": [
    "## Group Members: Fill in the Student ID's of each group member here\n",
    "- A12946203\n",
    "- A12657162\n",
    "- A12889508\n",
    "- A13104357"
   ]
  },
  {
   "cell_type": "markdown",
   "metadata": {},
   "source": [
    "### Research Question\n",
    "\n",
    "What is your research question? (1-2 sentences)"
   ]
  },
  {
   "cell_type": "markdown",
   "metadata": {},
   "source": [
    "How do video game sales correlate with year of release, genre, region, and review scores?"
   ]
  },
  {
   "cell_type": "markdown",
   "metadata": {},
   "source": [
    "### Hypothesis\n",
    "\n",
    "What is your prediction (2-3 sentences)"
   ]
  },
  {
   "cell_type": "markdown",
   "metadata": {},
   "source": [
    "Sales have a positive correlation with review scores and year of release. Certain genres have higher sales than others, and different regions have different trends."
   ]
  },
  {
   "cell_type": "markdown",
   "metadata": {},
   "source": [
    "### Dataset(s)\n",
    "\n",
    "What data will you use to answer your question? Describe the dataset in terms of number of observations, what kind of features it contains, etc. You must use at least one dataset containing at least approximately 1000 observations (if your data are smaller but you feel they are sufficient, email Prof. Voytek). You are welcome (and in fact recommended) to find multiple datasets! If you do so, describe each one, and briefly explain how you will combine them together. "
   ]
  },
  {
   "cell_type": "markdown",
   "metadata": {},
   "source": [
    "- Dataset Name: Video Game Sales with Ratings\n",
    "- Link to the dataset: https://www.kaggle.com/rush4ratio/video-game-sales-with-ratings\n",
    "- Number of observations: 16719\n",
    "\n",
    "Contains information on PC and console video games, including name, platform, year of release, genre, publisher, sales in different regions, critic and user scores, rating, and developer."
   ]
  },
  {
   "cell_type": "markdown",
   "metadata": {},
   "source": [
    "### Background & Prior Work\n",
    "\n",
    "Why is this question of interest, what background information led you to your hypothesis, and why is this important?\n",
    "\n",
    "Find some relevant prior work, and reference them. Even if you think you have a totally novel question, find the most similar prior work you can, and discuss how it relates to your project. \n",
    "\n",
    "References can be research publications, but they need not be: blogs, github repositories, company websites, etc., are viable references if they are relevant to your project.\n",
    "\n",
    "(2-3 paragraphs, including at least 2 references)"
   ]
  },
  {
   "cell_type": "markdown",
   "metadata": {},
   "source": [
    "We are very involved in the gaming community, and all spend a lot of our free time playing video games. The gaming industry is a growing sector in the US and global economies. There are many factors present that determine a game's success, and we would like to figure out what correlates with a high number of game sales. We believe that video game sales have increased over the years, and that high review scores are correlated with more sales. Our reason to believe this is that people would see these high review scores and buy the games that were well reviewed. \n",
    "\n",
    "We found two relevant references for our hypothesis. First is an article that describes the end of the \"golden era of video-games\" (https://qz.com/666299/the-golden-era-of-video-game-console-sales-is-over/) This is supported by data showing a decrease in console sales compared to consoles of the past. On the contrary, our second reference (http://www.theesa.com/wp-content/uploads/2014/11/Games_Economy-11-4-14.pdf) describes the video game industry's recent growth in the economy. We hope to figure out the truth behind this debate with our research.\n",
    "\n",
    "\n",
    "References (include a link):\n",
    "- 1) https://qz.com/666299/the-golden-era-of-video-game-console-sales-is-over/\n",
    "- 2) http://www.theesa.com/wp-content/uploads/2014/11/Games_Economy-11-4-14.pdf"
   ]
  },
  {
   "cell_type": "markdown",
   "metadata": {},
   "source": [
    "### Proposed Methods\n",
    "\n",
    "What methods will you use to analyze your data?\n",
    "\n",
    "- How 'clean' is the data? To the extent that it requires cleaning, how will you do so?\n",
    "- How will you analyze the data? Be as specific as you can. Briefly mention any pre-processing steps that are required for your methods (for example, checking data distributions and performing any transformations that may be required). Include a brief outline of how you will apply your chosen method(s). \n",
    "- What do you plan to report? Briefly mention any key visualizations you plan to create, and/or the kind of result you will be able to report that addresses your question (this could be, for example, the outcome of some statistical test(s), prediction error on a model, a model fit parameter, etc.).\n",
    "- Include a list of packages you expect to use for you project. If you plan to use packages we have not used in class, add a very brief description about them (a few words is sufficient). "
   ]
  },
  {
   "cell_type": "markdown",
   "metadata": {},
   "source": [
    "*Fill in your proposed methods information here:*\n",
    "\n",
    "*Data Cleaning (2-3 sentences)*\n",
    "We must remove data for games that are missing relevant information such as year of release or review scores. We will check our dataframe for missing/NaN values and drop them. \n",
    "\n",
    "*Data Analysis (1-2 paragraphs)*\n",
    "To analyze the data, we will use methods from pandas and numpy in order to find correlations (if any are present). We will plot histograms, correlation graphs, etc and analyze the shapes of these distributions. We will check to see if transformations are required. Transformations will be required if there too many values heavily skewing the distribution.\n",
    "\n",
    "*What to report (2-3 sentences)* We will be reporting certain correlations. To do so we will utilize graphs such as histograms and not only analyze the histograms, we will also be analyzing the least squares regression line or the best fit line where we will compare the differences made by each game's year of release, genre, region, and review scores to another game. Doing so will result in a way to compare the correlations between each different aspect.\n",
    "\n",
    "Packages we plan to use:\n",
    "- a numpy\n",
    "- b pandas"
   ]
  },
  {
   "cell_type": "markdown",
   "metadata": {},
   "source": [
    "### Discussion\n",
    "\n",
    "What are the pitfalls and potential confounds of your data and/or methods? For example, how might biases in your data sources or analyses influence your interpretations? What will you do if you methods don't work and/or your hypotheses are wrong?\n",
    "\n",
    "(2-3 paragraphs)"
   ]
  },
  {
   "cell_type": "markdown",
   "metadata": {},
   "source": [
    "Some confounds with our data is the fact that one of the data is based on opinion, which means that some data is not purely fact, but can vary depending on the preferences of the critic. Also, what happens when the critic changes their mind over time?\n",
    "\n",
    "Some biases in our sources can come from the fact that earlier games have some kind of inflation with prices. Before games were about $50, but now they are about $60. This means that the games back then were even more expensive than they are now. This can create a bias probably toward older videogames probably having a higher sale.\n",
    "\n",
    "If our hypothesis is wrong, we will test the contary to our hypothesis and test if the opposite of our hypothesis is different. If our methods do not work, then we will see how other types of statistical tests will work and try those out."
   ]
  }
 ],
 "metadata": {
  "kernelspec": {
   "display_name": "Python 3",
   "language": "python",
   "name": "python3"
  },
  "language_info": {
   "codemirror_mode": {
    "name": "ipython",
    "version": 3
   },
   "file_extension": ".py",
   "mimetype": "text/x-python",
   "name": "python",
   "nbconvert_exporter": "python",
   "pygments_lexer": "ipython3",
   "version": "3.6.0"
  }
 },
 "nbformat": 4,
 "nbformat_minor": 2
}
